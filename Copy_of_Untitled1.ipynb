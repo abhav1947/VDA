{
  "nbformat": 4,
  "nbformat_minor": 0,
  "metadata": {
    "colab": {
      "provenance": []
    },
    "kernelspec": {
      "name": "python3",
      "display_name": "Python 3"
    },
    "language_info": {
      "name": "python"
    }
  },
  "cells": [
    {
      "cell_type": "code",
      "execution_count": 32,
      "metadata": {
        "colab": {
          "base_uri": "https://localhost:8080/",
          "height": 298
        },
        "id": "x9PUXQEf39Sd",
        "outputId": "2dfcfac3-69b5-4be9-891f-b136b2b3ae92"
      },
      "outputs": [
        {
          "output_type": "stream",
          "name": "stdout",
          "text": [
            "Drive already mounted at /content/drive/; to attempt to forcibly remount, call drive.mount(\"/content/drive/\", force_remount=True).\n"
          ]
        },
        {
          "output_type": "display_data",
          "data": {
            "text/plain": [
              "<Figure size 432x288 with 1 Axes>"
            ],
            "image/png": "[encoded data removed]"
          },
          "metadata": {
            "needs_background": "light"
          }
        }
      ],
      "source": [
        "# NAME    : ABHAV S VELIDI\n",
        "# USN     : 222VL001\n",
        "# COURSE  : MTech VLSI Design\n",
        "# Credits : www.geeksforgeeks.com\n",
        "# Credits : www.w3hschools.com\n",
        "# Credits : \n",
        "# Reading text file and plotting the rectangles\n",
        "import matplotlib\n",
        "import matplotlib.pyplot as plt\n",
        "from matplotlib.patches import Rectangle\n",
        "from zmq.constants import NULL\n",
        "from google.colab import drive\n",
        "drive.mount('/content/drive/')\n",
        "# Set the path according to the location of test_data.txt file in google drive\n",
        "path = '/content/drive/MyDrive/VDC/Assignment_1/test_data.txt'\n",
        "#List of declaration to be used in plot function\n",
        "#x =[]\n",
        "#y =[]\n",
        "#file1 points to path which has a text file which is opened in read mode\n",
        "file1 = open(path,\"r\")\n",
        "#copies the contents of file1 to data using read operation \n",
        "data = file1.read()\n",
        "#As the file contains various characters they are removed as follows to create\n",
        "#a list\n",
        "data = data.translate({ord('{'): None})\n",
        "data = data.translate({ord('}'): None})\n",
        "data = data.translate({ord(' '): None})\n",
        "data = data.translate({ord('\\n'): None})\n",
        "#We can split the text file at \",\" to create a list\n",
        "data = data.split(\",\")\n",
        "#The list data contains string data \n",
        "#The below for loop typecast the string to integer\n",
        "for i in range(len(data)):\n",
        "  data[i] = int(data[i])\n",
        "#Creating a backup of the data_manipulation done till now\n",
        "data_1 = data;\n",
        "#Creating Individual sublist of 5 values each defining paticular values\n",
        "data = [data[x:x+5] for x in range(0, len(data), 5)]\n",
        "\n",
        "# Plotting the rectangles on to the cartesian system\n",
        "# Creating an empty figure to plot all the rectangles on to the converse\n",
        "fig = plt.figure()\n",
        "ax = fig.add_subplot()\n",
        "\n",
        "for i in range(len(data)):\n",
        "    rect = matplotlib.patches.Rectangle((data[i][1], data[i][2]), data[i][3]-data[i][1], data[i][4]-data[i][2], edgecolor='cyan',\n",
        "    facecolor='none', linewidth=2)\n",
        "    ax.add_patch(rect)\n",
        "    ax.annotate(\"Rectangle\"+ str((data[i][0])) ,((data[i][1]+data[i][3])*0.5, (data[i][2]+data[i][4])*0.5), color='black', weight='bold', fontsize=6, ha='center', va='center')\n",
        "    plt.xlim([0, 20])\n",
        "    plt.ylim([0, 20])\n",
        "\n",
        "plt.title('Given Rectangles')\n",
        "plt.show()"
      ]
    },
    {
      "cell_type": "code",
      "source": [
        "# Question 1: \n",
        "# Accept input {x, y} from the keyboard.\n",
        "# Print if this point lies within any of the rectangles in the given test data set.\n",
        "# If yes then list the rectangles enclosing the given point in the format\n",
        "# {rectangle_id, rectangle_id, rectangle_id, ... rectangle_id}. \n",
        "# Eg: {1, 5, 8} implies that given point(x, y)\n",
        "# is enclosed in the rectangles 1, 5 and 8.\n",
        "\n",
        "# This list holds the rectangles that include the co-ordinates given by user \n",
        "rect_encl = []\n",
        "# Take in the x co-ordiante from the user\n",
        "x_1 = float(input('Enter the x co-ordinate: '))\n",
        "# Take in the y co-ordinate from the user\n",
        "y_1 = float(input('Enter the y co-ordinate: '))\n",
        "# The for loop is run to check weather the given cordinate lie in any of the\n",
        "# given rectangles \n",
        "for i in range(len(data)):\n",
        "  # Check the x co-ordinate of the rectangle \n",
        "  if (data[i][1] < x_1 < data[i][3]):\n",
        "    # Check the y co-ordinate of the rectangle\n",
        "    if (data[i][2] < y_1 < data[i][4]):\n",
        "      # If given given co-ordinate lies inside the rectangle append it to the\n",
        "      # list\n",
        "      rect_encl.append(data[i][0])\n",
        "  else:\n",
        "    #If it does'nt lie in the rectangle continue with the for loop\n",
        "    continue\n",
        "# Print the list of enclosed rectangles\n",
        "print(rect_encl)"
      ],
      "metadata": {
        "id": "0tUR4Wn44Alg",
        "colab": {
          "base_uri": "https://localhost:8080/"
        },
        "outputId": "a78b88c7-acd2-4275-d9cb-c05d6c81ad62"
      },
      "execution_count": 33,
      "outputs": [
        {
          "output_type": "stream",
          "name": "stdout",
          "text": [
            "Enter the x co-ordinate: 3\n",
            "Enter the y co-ordinate: 8\n",
            "[]\n"
          ]
        }
      ]
    },
    {
      "cell_type": "code",
      "source": [
        "1# Question 2:\n",
        "# List of rectangles that don't overlap any other rectangles.\n",
        "# The output should be in the format \n",
        "# {rectangle_id, rectangle_id, rectangle_id, ... rectangle_id} \n",
        "\n",
        "# This list holds the rectangles that are not included by the co-ordinates\n",
        "# given by user \n",
        "rect_encl = []\n",
        "temp = []\n",
        "l1=[]\n",
        "l4=[]\n",
        "# The for loop is run to check weather the given cordinate lies in any of the\n",
        "# given rectangles \n",
        "for i in range(0,len(data)):\n",
        "  temp = []\n",
        "  for j in range(len(data)):\n",
        "    # Check the x and y co-ordinates of the rectangles are compared with every\n",
        "    # rectangle in the list \n",
        "    if(i != j):\n",
        "      if ((data[i][1] < data[j][1] < data[i][3]) and (data[i][2] < data[j][2] < data[i][4])):\n",
        "        # If the co-ordinates lie within the range then the rectangle overlaps \n",
        "        # the other\n",
        "        continue\n",
        "      elif ((data[i][1] < data[j][3] < data[i][3]) and (data[i][2] < data[j][4] < data[i][4])):\n",
        "        # If the co-ordinates lie within the range then the rectangle overlaps \n",
        "        # the other      \n",
        "        continue\n",
        "      elif  ((data[i][1] < data[j][1] < data[i][3]) and (data[i][2] < data[j][4] < data[i][4])):\n",
        "        # If the co-ordinates lie within the range then the rectangle overlaps \n",
        "        # the other      \n",
        "        continue\n",
        "      elif  ((data[i][1] < data[j][3] < data[i][3]) and (data[i][2] < data[j][2] < data[i][4])):\n",
        "        # If the co-ordinates lie within the range then the rectangle overlaps \n",
        "        # the other      \n",
        "        continue\n",
        "      else:\n",
        "        # If the co-ordinates lie within the range then the rectangle overlaps \n",
        "        # the other      \n",
        "        temp.append(data[j][0])\n",
        "\n",
        "  # Append the given list to the \n",
        "  rect_encl.append(temp);\n",
        "  # Once the 'j' iteration is done append the value to the main list i.e rect_ovrlp\n",
        "\n",
        "# Print the list of enclosed rectangles\n",
        "print(rect_encl)"
      ],
      "metadata": {
        "colab": {
          "base_uri": "https://localhost:8080/"
        },
        "id": "23sjnBce4WrY",
        "outputId": "c2f2d72d-2943-474b-992a-9112e995eb2d"
      },
      "execution_count": 38,
      "outputs": [
        {
          "output_type": "stream",
          "name": "stdout",
          "text": [
            "[[2, 3, 4, 5, 6, 7, 8, 9, 10], [1, 3, 4, 5, 6, 7, 8, 10], [5, 6, 7, 8, 10], [1, 2, 3, 6, 7, 8, 9], [1, 2, 3, 4, 6, 7, 8, 9, 10], [1, 2, 3, 4, 5, 7, 8, 9, 10], [1, 2, 3, 4, 5, 6, 9, 10], [1, 2, 3, 4, 5, 6, 7, 9, 10], [1, 2, 3, 4, 5, 6, 7, 8, 10], [1, 2, 3, 5, 6, 7, 8, 9]]\n"
          ]
        }
      ]
    },
    {
      "cell_type": "code",
      "source": [
        "# Question 3:\n",
        "# List of rectangles that overlap with other rectangles in the format \n",
        "# {{rectangle_id, list_of_rectangle_ids_which_are_overlapping_with_it}, \n",
        "# {rectangle_id, list_of_rectangle_ids_which_are_overlapping_with_it},\n",
        "#  ..... {rectangle_id, list_of_rectangle_ids_which_are_overlapping_with_it}}\n",
        "# Eg: {{5, 7, 9, 12}, {6, 10, 12}} implies that rectangle 5 overlaps with \n",
        "# rectangles 7, 9 and 12; rectangle 6 overlaps with rectangles 10 and 12.\n",
        "# Declare an empty set to hold the data of each rectangle it's over laping with\n",
        "rect_ovrlap = []\n",
        "# This list is used to temporarly store the data after each iteration\n",
        "# Also the list is cleared after each iteration\n",
        "temp = [] \n",
        "# The for loop implemented is similar to searching algorithms that compare \n",
        "# the given value with its adjacent values, well in this case it compares it\n",
        "# with co-ordinates of other rectangles\n",
        "for i in range(0,len(data)):\n",
        "  # clear the temp variable after every 'i' iteration \n",
        "  temp = []\n",
        "  for j in range(len(data)):\n",
        "    # Check the x and y co-ordinates of the rectangles are compared with every\n",
        "    # rectangle in the list \n",
        "    if(i != j):\n",
        "      if ((data[i][1] < data[j][1] < data[i][3]) and (data[i][2] < data[j][2] < data[i][4])):\n",
        "        # If the co-ordinates lie within the range then the rectangle overlaps \n",
        "        # the other\n",
        "        temp.append((data[j][0]))\n",
        "      elif ((data[i][1] < data[j][3] < data[i][3]) and (data[i][2] < data[j][4] < data[i][4])):\n",
        "        # If the co-ordinates lie within the range then the rectangle overlaps \n",
        "        # the other      \n",
        "        temp.append((data[j][0]))\n",
        "      elif  ((data[i][1] < data[j][1] < data[i][3]) and (data[i][2] < data[j][4] < data[i][4])):\n",
        "        # If the co-ordinates lie within the range then the rectangle overlaps \n",
        "        # the other      \n",
        "        temp.append((data[j][0]))\n",
        "      elif  ((data[i][1] < data[j][3] < data[i][3]) and (data[i][2] < data[j][2] < data[i][4])):\n",
        "        # If the co-ordinates lie within the range then the rectangle overlaps \n",
        "        # the other      \n",
        "        temp.append((data[j][0]))\n",
        "      else:\n",
        "        continue\n",
        "  rect_ovrlap.append(temp);\n",
        "  # Once the 'j' iteration is done append the value to the main list i.e rect_ovrlp\n",
        "print(rect_ovrlap)\n"
      ],
      "metadata": {
        "colab": {
          "base_uri": "https://localhost:8080/"
        },
        "id": "IPwhc09GD4XS",
        "outputId": "66d08b9c-6420-42f4-f4a0-a5119f40af3b"
      },
      "execution_count": 39,
      "outputs": [
        {
          "output_type": "stream",
          "name": "stdout",
          "text": [
            "[[], [9], [1, 2, 4, 9], [5, 10], [], [], [8], [], [], [4]]\n"
          ]
        }
      ]
    },
    {
      "cell_type": "code",
      "source": [
        "# Question 4:\n",
        "# List of rectangles that contain other rectangles in the format \n",
        "# {rectangle_id, list_of_rectangle_ids_which_are_contained_in}\n",
        "# Eg: {{5, 2, 6}, {4, 3, 9}} implies that rectangle 5 contains \n",
        "# rectangles 2 and 6; rectangle 4 contains rectangles 3 and 9.\n",
        "# Declare an empty list to hold the data of each rectangle it's over laping with\n",
        "rect_contain = []\n",
        "# This list is used to temporarly store the data after each iteration\n",
        "# Also the list is cleared after each iteration\n",
        "temp_1 = [] \n",
        "# The for loop implemented is similar to searching algorithms that compare \n",
        "# the given value with its adjacent values, well in this case it compares it\n",
        "# with co-ordinates of other rectangles\n",
        "for i in range(len(data)):\n",
        "  # clear the temp variable after every 'i' iteration \n",
        "  temp_1 = []\n",
        "  for j in range(len(data)):\n",
        "    if(i != j):\n",
        "      # Check the x and y co-ordinates of the rectangles are compared with every\n",
        "      # rectangle in the list \n",
        "      if ((data[i][1] <= data[j][1] <= data[i][3]) and (data[i][1] <= data[j][3] <= data[i][3])):\n",
        "         if ((data[i][2] <= data[j][2] <= data[i][4]) and (data[i][2] <= data[j][4] <= data[i][4])):  \n",
        "           # If the co-ordinates lie within the range then the rectangle contain \n",
        "            # each other\n",
        "          temp_1.append(data[j][0])\n",
        "         else:\n",
        "           continue\n",
        "      else:\n",
        "        continue\n",
        "  # Once the 'j' iteration is done append the value to the main list i.e rect_ovrlp\n",
        "  rect_contain.append(temp_1)\n",
        "print(rect_contain)"
      ],
      "metadata": {
        "colab": {
          "base_uri": "https://localhost:8080/"
        },
        "id": "-K40x12U9Woq",
        "outputId": "afbadf8f-23e7-4fca-f370-cd8f5dd1983a"
      },
      "execution_count": 36,
      "outputs": [
        {
          "output_type": "stream",
          "name": "stdout",
          "text": [
            "[[], [], [1, 2, 9], [5], [], [], [8], [], [], []]\n"
          ]
        }
      ]
    },
    {
      "cell_type": "code",
      "source": [
        "rect_abutting = []\n",
        "temp2 = [] \n",
        "for i in range(0,10):\n",
        "  for j in range(0,10):\n",
        "    if(i != j):\n",
        "      if (data[i][2] == data[j][4]):\n",
        "        if ((data[i][1] <= data[j][1] <= data[i][4]) or (data[i][1] <= data[j][4] <= data[i][4]) ):\n",
        "          rect_abutting.append([data[i][0],'s',data[j]][0])\n",
        "        else:\n",
        "          continue\n",
        "      if (data[i][3] == data[j][1]):\n",
        "        if ((data[i][1] <= data[j][1] <= data[i][4]) or (data[i][1] <= data[j][4] <= data[i][4]) ):\n",
        "          rect_abutting.append([data[i][0],'s',data[j]][0])\n",
        "        else:\n",
        "          continue\n",
        "rect_abutting"
      ],
      "metadata": {
        "colab": {
          "base_uri": "https://localhost:8080/"
        },
        "id": "93rvxTUTEzRP",
        "outputId": "5806aa4a-e81f-4277-d85a-17de271f7f34"
      },
      "execution_count": 37,
      "outputs": [
        {
          "output_type": "execute_result",
          "data": {
            "text/plain": [
              "[2, 2, [3, 'e', 2], [3, 'n', 7], [7, 'e', 8], [9, 'n', 3]]"
            ]
          },
          "metadata": {},
          "execution_count": 37
        }
      ]
    },
    {
      "cell_type": "code",
      "source": [],
      "metadata": {
        "id": "5gkdY5xFwPvx"
      },
      "execution_count": null,
      "outputs": []
    },
    {
      "cell_type": "code",
      "source": [],
      "metadata": {
        "id": "VR-fiDkiyd6B"
      },
      "execution_count": null,
      "outputs": []
    },
    {
      "cell_type": "code",
      "source": [],
      "metadata": {
        "id": "kKZh-FC-ygv1"
      },
      "execution_count": null,
      "outputs": []
    },
    {
      "cell_type": "code",
      "source": [],
      "metadata": {
        "id": "H0lUudmTyhwR"
      },
      "execution_count": null,
      "outputs": []
    },
    {
      "cell_type": "code",
      "source": [
        "\n"
      ],
      "metadata": {
        "id": "pggBMwRwyqao"
      },
      "execution_count": null,
      "outputs": []
    },
    {
      "cell_type": "code",
      "source": [
        "\n",
        "\n",
        "\n"
      ],
      "metadata": {
        "id": "hSMUdImSysaM"
      },
      "execution_count": null,
      "outputs": []
    },
    {
      "cell_type": "code",
      "source": [],
      "metadata": {
        "id": "3vAZQolmy1q0"
      },
      "execution_count": null,
      "outputs": []
    },
    {
      "cell_type": "code",
      "source": [
        "\n"
      ],
      "metadata": {
        "id": "Af4wGC_Cy2k4"
      },
      "execution_count": null,
      "outputs": []
    },
    {
      "cell_type": "code",
      "source": [
        "\n"
      ],
      "metadata": {
        "id": "59ub2zBky5hF"
      },
      "execution_count": null,
      "outputs": []
    },
    {
      "cell_type": "code",
      "source": [],
      "metadata": {
        "id": "DAJZySSzy8LJ"
      },
      "execution_count": null,
      "outputs": []
    },
    {
      "cell_type": "code",
      "source": [],
      "metadata": {
        "id": "Ls2TsLAFfKnK"
      },
      "execution_count": null,
      "outputs": []
    }
  ]
}